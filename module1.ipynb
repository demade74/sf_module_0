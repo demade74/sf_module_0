{
 "cells": [
  {
   "cell_type": "code",
   "execution_count": 85,
   "metadata": {
    "collapsed": true
   },
   "outputs": [],
   "source": [
    "import pandas as pd\n",
    "import numpy as np\n",
    "import re\n",
    "\n",
    "from collections import Counter\n",
    "from datetime import datetime\n",
    "from sklearn.model_selection import train_test_split\n",
    "from sklearn.ensemble import RandomForestRegressor\n",
    "from sklearn import metrics"
   ]
  },
  {
   "cell_type": "code",
   "execution_count": 2,
   "metadata": {
    "collapsed": true
   },
   "outputs": [],
   "source": [
    "data = pd.read_csv('main_task.csv')"
   ]
  },
  {
   "cell_type": "markdown",
   "metadata": {},
   "source": [
    "Описание столбцов\n",
    "1. Restaurant_id — идентификационный номер ресторана;\n",
    "2. City — город, в котором находится ресторан;\n",
    "3. Cuisine Style — стиль или стили, к которым можно отнести блюда, предлагаемые в ресторане;\n",
    "4. Ranking — место, которое занимает данный ресторан среди всех ресторанов своего города;\n",
    "5. Rating — рейтинг ресторана по данным TripAdvisor (именно это значение должна будет предсказывать модель);\n",
    "6. Price Range — диапазон цен в ресторане;\n",
    "7. Number of Reviews — количество отзывов о ресторане;\n",
    "8. Reviews — данные о двух отзывах, которые отображаются на сайте ресторана;\n",
    "9. URL_TA — URL страницы ресторана на TripAdvosor;\n",
    "10. ID_TA — идентификатор ресторана в базе данных TripAdvisor."
   ]
  },
  {
   "cell_type": "code",
   "execution_count": 4,
   "metadata": {},
   "outputs": [
    {
     "data": {
      "text/html": [
       "<div>\n",
       "<style scoped>\n",
       "    .dataframe tbody tr th:only-of-type {\n",
       "        vertical-align: middle;\n",
       "    }\n",
       "\n",
       "    .dataframe tbody tr th {\n",
       "        vertical-align: top;\n",
       "    }\n",
       "\n",
       "    .dataframe thead th {\n",
       "        text-align: right;\n",
       "    }\n",
       "</style>\n",
       "<table border=\"1\" class=\"dataframe\">\n",
       "  <thead>\n",
       "    <tr style=\"text-align: right;\">\n",
       "      <th></th>\n",
       "      <th>Restaurant_id</th>\n",
       "      <th>City</th>\n",
       "      <th>Cuisine Style</th>\n",
       "      <th>Ranking</th>\n",
       "      <th>Rating</th>\n",
       "      <th>Price Range</th>\n",
       "      <th>Number of Reviews</th>\n",
       "      <th>Reviews</th>\n",
       "      <th>URL_TA</th>\n",
       "      <th>ID_TA</th>\n",
       "    </tr>\n",
       "  </thead>\n",
       "  <tbody>\n",
       "    <tr>\n",
       "      <td>0</td>\n",
       "      <td>id_5569</td>\n",
       "      <td>Paris</td>\n",
       "      <td>['European', 'French', 'International']</td>\n",
       "      <td>5570.0</td>\n",
       "      <td>3.5</td>\n",
       "      <td>$$ - $$$</td>\n",
       "      <td>194.0</td>\n",
       "      <td>[['Good food at your doorstep', 'A good hotel ...</td>\n",
       "      <td>/Restaurant_Review-g187147-d1912643-Reviews-R_...</td>\n",
       "      <td>d1912643</td>\n",
       "    </tr>\n",
       "    <tr>\n",
       "      <td>1</td>\n",
       "      <td>id_1535</td>\n",
       "      <td>Stockholm</td>\n",
       "      <td>NaN</td>\n",
       "      <td>1537.0</td>\n",
       "      <td>4.0</td>\n",
       "      <td>NaN</td>\n",
       "      <td>10.0</td>\n",
       "      <td>[['Unique cuisine', 'Delicious Nepalese food']...</td>\n",
       "      <td>/Restaurant_Review-g189852-d7992032-Reviews-Bu...</td>\n",
       "      <td>d7992032</td>\n",
       "    </tr>\n",
       "    <tr>\n",
       "      <td>2</td>\n",
       "      <td>id_352</td>\n",
       "      <td>London</td>\n",
       "      <td>['Japanese', 'Sushi', 'Asian', 'Grill', 'Veget...</td>\n",
       "      <td>353.0</td>\n",
       "      <td>4.5</td>\n",
       "      <td>$$$$</td>\n",
       "      <td>688.0</td>\n",
       "      <td>[['Catch up with friends', 'Not exceptional'],...</td>\n",
       "      <td>/Restaurant_Review-g186338-d8632781-Reviews-RO...</td>\n",
       "      <td>d8632781</td>\n",
       "    </tr>\n",
       "    <tr>\n",
       "      <td>3</td>\n",
       "      <td>id_3456</td>\n",
       "      <td>Berlin</td>\n",
       "      <td>NaN</td>\n",
       "      <td>3458.0</td>\n",
       "      <td>5.0</td>\n",
       "      <td>NaN</td>\n",
       "      <td>3.0</td>\n",
       "      <td>[[], []]</td>\n",
       "      <td>/Restaurant_Review-g187323-d1358776-Reviews-Es...</td>\n",
       "      <td>d1358776</td>\n",
       "    </tr>\n",
       "    <tr>\n",
       "      <td>4</td>\n",
       "      <td>id_615</td>\n",
       "      <td>Munich</td>\n",
       "      <td>['German', 'Central European', 'Vegetarian Fri...</td>\n",
       "      <td>621.0</td>\n",
       "      <td>4.0</td>\n",
       "      <td>$$ - $$$</td>\n",
       "      <td>84.0</td>\n",
       "      <td>[['Best place to try a Bavarian food', 'Nice b...</td>\n",
       "      <td>/Restaurant_Review-g187309-d6864963-Reviews-Au...</td>\n",
       "      <td>d6864963</td>\n",
       "    </tr>\n",
       "    <tr>\n",
       "      <td>5</td>\n",
       "      <td>id_1418</td>\n",
       "      <td>Oporto</td>\n",
       "      <td>NaN</td>\n",
       "      <td>1419.0</td>\n",
       "      <td>3.0</td>\n",
       "      <td>NaN</td>\n",
       "      <td>2.0</td>\n",
       "      <td>[['There are better 3 star hotel bars', 'Amazi...</td>\n",
       "      <td>/Restaurant_Review-g189180-d12503536-Reviews-D...</td>\n",
       "      <td>d12503536</td>\n",
       "    </tr>\n",
       "    <tr>\n",
       "      <td>6</td>\n",
       "      <td>id_1720</td>\n",
       "      <td>Milan</td>\n",
       "      <td>['Italian', 'Pizza']</td>\n",
       "      <td>1722.0</td>\n",
       "      <td>4.0</td>\n",
       "      <td>$</td>\n",
       "      <td>50.0</td>\n",
       "      <td>[['Excellent simple local eatery.', 'Excellent...</td>\n",
       "      <td>/Restaurant_Review-g187849-d5808504-Reviews-Pi...</td>\n",
       "      <td>d5808504</td>\n",
       "    </tr>\n",
       "    <tr>\n",
       "      <td>7</td>\n",
       "      <td>id_825</td>\n",
       "      <td>Bratislava</td>\n",
       "      <td>['Italian']</td>\n",
       "      <td>826.0</td>\n",
       "      <td>3.0</td>\n",
       "      <td>NaN</td>\n",
       "      <td>9.0</td>\n",
       "      <td>[['Wasting of money', 'excellent cuisine'], ['...</td>\n",
       "      <td>/Restaurant_Review-g274924-d3199765-Reviews-Ri...</td>\n",
       "      <td>d3199765</td>\n",
       "    </tr>\n",
       "    <tr>\n",
       "      <td>8</td>\n",
       "      <td>id_2690</td>\n",
       "      <td>Vienna</td>\n",
       "      <td>NaN</td>\n",
       "      <td>2692.0</td>\n",
       "      <td>4.0</td>\n",
       "      <td>NaN</td>\n",
       "      <td>NaN</td>\n",
       "      <td>[[], []]</td>\n",
       "      <td>/Restaurant_Review-g190454-d12845029-Reviews-G...</td>\n",
       "      <td>d12845029</td>\n",
       "    </tr>\n",
       "    <tr>\n",
       "      <td>9</td>\n",
       "      <td>id_4209</td>\n",
       "      <td>Rome</td>\n",
       "      <td>['Italian', 'Pizza', 'Fast Food']</td>\n",
       "      <td>4210.0</td>\n",
       "      <td>4.0</td>\n",
       "      <td>$</td>\n",
       "      <td>55.0</td>\n",
       "      <td>[['Clean efficient staff', 'Nice little pizza ...</td>\n",
       "      <td>/Restaurant_Review-g187791-d8020681-Reviews-Qu...</td>\n",
       "      <td>d8020681</td>\n",
       "    </tr>\n",
       "  </tbody>\n",
       "</table>\n",
       "</div>"
      ],
      "text/plain": [
       "  Restaurant_id        City  \\\n",
       "0       id_5569       Paris   \n",
       "1       id_1535   Stockholm   \n",
       "2        id_352      London   \n",
       "3       id_3456      Berlin   \n",
       "4        id_615      Munich   \n",
       "5       id_1418      Oporto   \n",
       "6       id_1720       Milan   \n",
       "7        id_825  Bratislava   \n",
       "8       id_2690      Vienna   \n",
       "9       id_4209        Rome   \n",
       "\n",
       "                                       Cuisine Style  Ranking  Rating  \\\n",
       "0            ['European', 'French', 'International']   5570.0     3.5   \n",
       "1                                                NaN   1537.0     4.0   \n",
       "2  ['Japanese', 'Sushi', 'Asian', 'Grill', 'Veget...    353.0     4.5   \n",
       "3                                                NaN   3458.0     5.0   \n",
       "4  ['German', 'Central European', 'Vegetarian Fri...    621.0     4.0   \n",
       "5                                                NaN   1419.0     3.0   \n",
       "6                               ['Italian', 'Pizza']   1722.0     4.0   \n",
       "7                                        ['Italian']    826.0     3.0   \n",
       "8                                                NaN   2692.0     4.0   \n",
       "9                  ['Italian', 'Pizza', 'Fast Food']   4210.0     4.0   \n",
       "\n",
       "  Price Range  Number of Reviews  \\\n",
       "0    $$ - $$$              194.0   \n",
       "1         NaN               10.0   \n",
       "2        $$$$              688.0   \n",
       "3         NaN                3.0   \n",
       "4    $$ - $$$               84.0   \n",
       "5         NaN                2.0   \n",
       "6           $               50.0   \n",
       "7         NaN                9.0   \n",
       "8         NaN                NaN   \n",
       "9           $               55.0   \n",
       "\n",
       "                                             Reviews  \\\n",
       "0  [['Good food at your doorstep', 'A good hotel ...   \n",
       "1  [['Unique cuisine', 'Delicious Nepalese food']...   \n",
       "2  [['Catch up with friends', 'Not exceptional'],...   \n",
       "3                                           [[], []]   \n",
       "4  [['Best place to try a Bavarian food', 'Nice b...   \n",
       "5  [['There are better 3 star hotel bars', 'Amazi...   \n",
       "6  [['Excellent simple local eatery.', 'Excellent...   \n",
       "7  [['Wasting of money', 'excellent cuisine'], ['...   \n",
       "8                                           [[], []]   \n",
       "9  [['Clean efficient staff', 'Nice little pizza ...   \n",
       "\n",
       "                                              URL_TA      ID_TA  \n",
       "0  /Restaurant_Review-g187147-d1912643-Reviews-R_...   d1912643  \n",
       "1  /Restaurant_Review-g189852-d7992032-Reviews-Bu...   d7992032  \n",
       "2  /Restaurant_Review-g186338-d8632781-Reviews-RO...   d8632781  \n",
       "3  /Restaurant_Review-g187323-d1358776-Reviews-Es...   d1358776  \n",
       "4  /Restaurant_Review-g187309-d6864963-Reviews-Au...   d6864963  \n",
       "5  /Restaurant_Review-g189180-d12503536-Reviews-D...  d12503536  \n",
       "6  /Restaurant_Review-g187849-d5808504-Reviews-Pi...   d5808504  \n",
       "7  /Restaurant_Review-g274924-d3199765-Reviews-Ri...   d3199765  \n",
       "8  /Restaurant_Review-g190454-d12845029-Reviews-G...  d12845029  \n",
       "9  /Restaurant_Review-g187791-d8020681-Reviews-Qu...   d8020681  "
      ]
     },
     "execution_count": 4,
     "metadata": {},
     "output_type": "execute_result"
    }
   ],
   "source": [
    "data.head(10)"
   ]
  },
  {
   "cell_type": "code",
   "execution_count": 5,
   "metadata": {},
   "outputs": [
    {
     "name": "stdout",
     "output_type": "stream",
     "text": [
      "<class 'pandas.core.frame.DataFrame'>\n",
      "RangeIndex: 40000 entries, 0 to 39999\n",
      "Data columns (total 10 columns):\n",
      "Restaurant_id        40000 non-null object\n",
      "City                 40000 non-null object\n",
      "Cuisine Style        30717 non-null object\n",
      "Ranking              40000 non-null float64\n",
      "Rating               40000 non-null float64\n",
      "Price Range          26114 non-null object\n",
      "Number of Reviews    37457 non-null float64\n",
      "Reviews              40000 non-null object\n",
      "URL_TA               40000 non-null object\n",
      "ID_TA                40000 non-null object\n",
      "dtypes: float64(3), object(7)\n",
      "memory usage: 3.1+ MB\n"
     ]
    }
   ],
   "source": [
    "# посмотрим на заполнение стобцов\n",
    "data.info()"
   ]
  },
  {
   "cell_type": "markdown",
   "metadata": {},
   "source": [
    "9283 строки не содержат информацию о стиле/стилях кухни ресторанов (23,2% от количества объектов), 13886 строк не содержат информацию о диапазоне цен (34,7%), 2543 строки не содержат информации о количестве отзывов (6,3%), хотя тексты отзывов присутствуют у всех ресторанов. Посмотрим на последние данные "
   ]
  },
  {
   "cell_type": "code",
   "execution_count": 12,
   "metadata": {
    "scrolled": true
   },
   "outputs": [
    {
     "data": {
      "text/html": [
       "<div>\n",
       "<style scoped>\n",
       "    .dataframe tbody tr th:only-of-type {\n",
       "        vertical-align: middle;\n",
       "    }\n",
       "\n",
       "    .dataframe tbody tr th {\n",
       "        vertical-align: top;\n",
       "    }\n",
       "\n",
       "    .dataframe thead th {\n",
       "        text-align: right;\n",
       "    }\n",
       "</style>\n",
       "<table border=\"1\" class=\"dataframe\">\n",
       "  <thead>\n",
       "    <tr style=\"text-align: right;\">\n",
       "      <th></th>\n",
       "      <th>Restaurant_id</th>\n",
       "      <th>City</th>\n",
       "      <th>Cuisine Style</th>\n",
       "      <th>Ranking</th>\n",
       "      <th>Rating</th>\n",
       "      <th>Price Range</th>\n",
       "      <th>Number of Reviews</th>\n",
       "      <th>Reviews</th>\n",
       "      <th>URL_TA</th>\n",
       "      <th>ID_TA</th>\n",
       "    </tr>\n",
       "  </thead>\n",
       "  <tbody>\n",
       "    <tr>\n",
       "      <td>8</td>\n",
       "      <td>id_2690</td>\n",
       "      <td>Vienna</td>\n",
       "      <td>NaN</td>\n",
       "      <td>2692.0</td>\n",
       "      <td>4.0</td>\n",
       "      <td>NaN</td>\n",
       "      <td>NaN</td>\n",
       "      <td>[[], []]</td>\n",
       "      <td>/Restaurant_Review-g190454-d12845029-Reviews-G...</td>\n",
       "      <td>d12845029</td>\n",
       "    </tr>\n",
       "    <tr>\n",
       "      <td>21</td>\n",
       "      <td>id_5844</td>\n",
       "      <td>Madrid</td>\n",
       "      <td>NaN</td>\n",
       "      <td>5847.0</td>\n",
       "      <td>4.0</td>\n",
       "      <td>NaN</td>\n",
       "      <td>NaN</td>\n",
       "      <td>[[], []]</td>\n",
       "      <td>/Restaurant_Review-g187514-d10058810-Reviews-B...</td>\n",
       "      <td>d10058810</td>\n",
       "    </tr>\n",
       "    <tr>\n",
       "      <td>32</td>\n",
       "      <td>id_1327</td>\n",
       "      <td>Budapest</td>\n",
       "      <td>NaN</td>\n",
       "      <td>1328.0</td>\n",
       "      <td>5.0</td>\n",
       "      <td>NaN</td>\n",
       "      <td>NaN</td>\n",
       "      <td>[['Absolutely amazing, tasty, fresh, cheap Ch....</td>\n",
       "      <td>/Restaurant_Review-g274887-d8791087-Reviews-Bu...</td>\n",
       "      <td>d8791087</td>\n",
       "    </tr>\n",
       "    <tr>\n",
       "      <td>102</td>\n",
       "      <td>id_1409</td>\n",
       "      <td>Budapest</td>\n",
       "      <td>['French', 'European', 'Hungarian']</td>\n",
       "      <td>1410.0</td>\n",
       "      <td>5.0</td>\n",
       "      <td>NaN</td>\n",
       "      <td>NaN</td>\n",
       "      <td>[[], []]</td>\n",
       "      <td>/Restaurant_Review-g274887-d13197631-Reviews-L...</td>\n",
       "      <td>d13197631</td>\n",
       "    </tr>\n",
       "    <tr>\n",
       "      <td>108</td>\n",
       "      <td>id_2047</td>\n",
       "      <td>Prague</td>\n",
       "      <td>['Italian', 'Mediterranean']</td>\n",
       "      <td>2050.0</td>\n",
       "      <td>5.0</td>\n",
       "      <td>$$ - $$$</td>\n",
       "      <td>NaN</td>\n",
       "      <td>[[], []]</td>\n",
       "      <td>/Restaurant_Review-g274707-d12243659-Reviews-T...</td>\n",
       "      <td>d12243659</td>\n",
       "    </tr>\n",
       "    <tr>\n",
       "      <td>167</td>\n",
       "      <td>id_8305</td>\n",
       "      <td>Paris</td>\n",
       "      <td>NaN</td>\n",
       "      <td>8306.0</td>\n",
       "      <td>5.0</td>\n",
       "      <td>NaN</td>\n",
       "      <td>NaN</td>\n",
       "      <td>[[], []]</td>\n",
       "      <td>/Restaurant_Review-g187147-d13284434-Reviews-S...</td>\n",
       "      <td>d13284434</td>\n",
       "    </tr>\n",
       "    <tr>\n",
       "      <td>180</td>\n",
       "      <td>id_5023</td>\n",
       "      <td>Berlin</td>\n",
       "      <td>NaN</td>\n",
       "      <td>5025.0</td>\n",
       "      <td>4.0</td>\n",
       "      <td>NaN</td>\n",
       "      <td>NaN</td>\n",
       "      <td>[['Free Wi-Fi, Peaceful, Pleasant'], ['01/19/2...</td>\n",
       "      <td>/Restaurant_Review-g187323-d12068247-Reviews-K...</td>\n",
       "      <td>d12068247</td>\n",
       "    </tr>\n",
       "    <tr>\n",
       "      <td>183</td>\n",
       "      <td>id_3566</td>\n",
       "      <td>Berlin</td>\n",
       "      <td>['Italian']</td>\n",
       "      <td>3568.0</td>\n",
       "      <td>5.0</td>\n",
       "      <td>NaN</td>\n",
       "      <td>NaN</td>\n",
       "      <td>[['Wonderful ambiance, delicious food, fantas....</td>\n",
       "      <td>/Restaurant_Review-g187323-d2424319-Reviews-Fo...</td>\n",
       "      <td>d2424319</td>\n",
       "    </tr>\n",
       "    <tr>\n",
       "      <td>187</td>\n",
       "      <td>id_2847</td>\n",
       "      <td>Lisbon</td>\n",
       "      <td>NaN</td>\n",
       "      <td>2850.0</td>\n",
       "      <td>4.0</td>\n",
       "      <td>NaN</td>\n",
       "      <td>NaN</td>\n",
       "      <td>[['Affordable little cafe in the middle of Al....</td>\n",
       "      <td>/Restaurant_Review-g189158-d13139218-Reviews-C...</td>\n",
       "      <td>d13139218</td>\n",
       "    </tr>\n",
       "    <tr>\n",
       "      <td>199</td>\n",
       "      <td>id_16034</td>\n",
       "      <td>London</td>\n",
       "      <td>NaN</td>\n",
       "      <td>16046.0</td>\n",
       "      <td>2.0</td>\n",
       "      <td>NaN</td>\n",
       "      <td>NaN</td>\n",
       "      <td>[[], []]</td>\n",
       "      <td>/Restaurant_Review-g186338-d7243246-Reviews-Yu...</td>\n",
       "      <td>d7243246</td>\n",
       "    </tr>\n",
       "  </tbody>\n",
       "</table>\n",
       "</div>"
      ],
      "text/plain": [
       "    Restaurant_id      City                        Cuisine Style  Ranking  \\\n",
       "8         id_2690    Vienna                                  NaN   2692.0   \n",
       "21        id_5844    Madrid                                  NaN   5847.0   \n",
       "32        id_1327  Budapest                                  NaN   1328.0   \n",
       "102       id_1409  Budapest  ['French', 'European', 'Hungarian']   1410.0   \n",
       "108       id_2047    Prague         ['Italian', 'Mediterranean']   2050.0   \n",
       "167       id_8305     Paris                                  NaN   8306.0   \n",
       "180       id_5023    Berlin                                  NaN   5025.0   \n",
       "183       id_3566    Berlin                          ['Italian']   3568.0   \n",
       "187       id_2847    Lisbon                                  NaN   2850.0   \n",
       "199      id_16034    London                                  NaN  16046.0   \n",
       "\n",
       "     Rating Price Range  Number of Reviews  \\\n",
       "8       4.0         NaN                NaN   \n",
       "21      4.0         NaN                NaN   \n",
       "32      5.0         NaN                NaN   \n",
       "102     5.0         NaN                NaN   \n",
       "108     5.0    $$ - $$$                NaN   \n",
       "167     5.0         NaN                NaN   \n",
       "180     4.0         NaN                NaN   \n",
       "183     5.0         NaN                NaN   \n",
       "187     4.0         NaN                NaN   \n",
       "199     2.0         NaN                NaN   \n",
       "\n",
       "                                               Reviews  \\\n",
       "8                                             [[], []]   \n",
       "21                                            [[], []]   \n",
       "32   [['Absolutely amazing, tasty, fresh, cheap Ch....   \n",
       "102                                           [[], []]   \n",
       "108                                           [[], []]   \n",
       "167                                           [[], []]   \n",
       "180  [['Free Wi-Fi, Peaceful, Pleasant'], ['01/19/2...   \n",
       "183  [['Wonderful ambiance, delicious food, fantas....   \n",
       "187  [['Affordable little cafe in the middle of Al....   \n",
       "199                                           [[], []]   \n",
       "\n",
       "                                                URL_TA      ID_TA  \n",
       "8    /Restaurant_Review-g190454-d12845029-Reviews-G...  d12845029  \n",
       "21   /Restaurant_Review-g187514-d10058810-Reviews-B...  d10058810  \n",
       "32   /Restaurant_Review-g274887-d8791087-Reviews-Bu...   d8791087  \n",
       "102  /Restaurant_Review-g274887-d13197631-Reviews-L...  d13197631  \n",
       "108  /Restaurant_Review-g274707-d12243659-Reviews-T...  d12243659  \n",
       "167  /Restaurant_Review-g187147-d13284434-Reviews-S...  d13284434  \n",
       "180  /Restaurant_Review-g187323-d12068247-Reviews-K...  d12068247  \n",
       "183  /Restaurant_Review-g187323-d2424319-Reviews-Fo...   d2424319  \n",
       "187  /Restaurant_Review-g189158-d13139218-Reviews-C...  d13139218  \n",
       "199  /Restaurant_Review-g186338-d7243246-Reviews-Yu...   d7243246  "
      ]
     },
     "execution_count": 12,
     "metadata": {},
     "output_type": "execute_result"
    }
   ],
   "source": [
    "reviews_without_number = data[data['Number of Reviews'].isnull()]\n",
    "reviews_without_number.head(10)"
   ]
  },
  {
   "cell_type": "markdown",
   "metadata": {},
   "source": [
    "Оказывается, как видно, тексты отзывов есть не у всех ресторанов, но некоторые значения в столбце Reviews заполнены пустыми списками, что не равняется NaN. Можно будет заполнить отсутствующее значение в ячейке Number of Reviews для ресторанов, у которых есть список отзывов, взяв его длину. Для остальных заполнить значения нулями (как вариант, тут может измениться логика, пока не проходил дальше по заданиям)"
   ]
  },
  {
   "cell_type": "markdown",
   "metadata": {},
   "source": [
    "Еще посмотрим на значения диапазона цен и рейтинга"
   ]
  },
  {
   "cell_type": "code",
   "execution_count": 27,
   "metadata": {},
   "outputs": [
    {
     "name": "stdout",
     "output_type": "stream",
     "text": [
      "Price range values = ['$$ - $$$' nan '$$$$' '$']\n",
      "Rating interval = (0.995, 5.0]\n",
      "Rating values = [ 3.5  4.   4.5  5.   3.   2.5  2.   1.   1.5]\n"
     ]
    }
   ],
   "source": [
    "print('Price range values = {}'.format(data['Price Range'].unique()))\n",
    "print('Rating interval = {}'.format(data['Rating'].value_counts(bins=1).index[0]))\n",
    "print('Rating values = {}'.format(data['Rating'].unique()))"
   ]
  },
  {
   "cell_type": "markdown",
   "metadata": {},
   "source": [
    "##  Задание"
   ]
  },
  {
   "cell_type": "markdown",
   "metadata": {},
   "source": [
    "<b>Из постановки задачи: мы должны использовать в модели датафрейм, содержащий только количественные признаки и не содержащий None-значений. На первом этапе для создания такого датафрейма давайте просто удалим столбцы, содержащие данные типа object, и заполним пропущенные значения (None или NaN) каким-то одним значением (нулём или средним арифметическим) для  всего столбца.<b>"
   ]
  },
  {
   "cell_type": "markdown",
   "metadata": {},
   "source": [
    "Таким образом, удалим столбцы типа object, убедимся, что количество отзывов и место ресторана - целые значения и заполним нолями пропуски в столбце количества отзывов. Сохраним все в отдельную переменную task_df "
   ]
  },
  {
   "cell_type": "code",
   "execution_count": 43,
   "metadata": {},
   "outputs": [
    {
     "name": "stdout",
     "output_type": "stream",
     "text": [
      "[ True] [ True]\n"
     ]
    }
   ],
   "source": [
    "# проверим, что количество отзывов и места - целые числа\n",
    "number_of_reviews = data['Number of Reviews'].dropna().apply(lambda x: x.is_integer())\n",
    "ranking = data['Ranking'].dropna().apply(lambda x: x.is_integer())\n",
    "\n",
    "print(number_of_reviews.unique(), ranking.unique())"
   ]
  },
  {
   "cell_type": "code",
   "execution_count": 9,
   "metadata": {
    "collapsed": true
   },
   "outputs": [],
   "source": [
    "task_df = data.drop(labels=['Restaurant_id','City','Cuisine Style','Price Range','Reviews','URL_TA','ID_TA'], axis=1).fillna(0)"
   ]
  },
  {
   "cell_type": "code",
   "execution_count": 24,
   "metadata": {},
   "outputs": [
    {
     "data": {
      "text/plain": [
       "0"
      ]
     },
     "execution_count": 24,
     "metadata": {},
     "output_type": "execute_result"
    }
   ],
   "source": [
    "# Убедимся, что не осталось пропущенных значений\n",
    "values = task_df.isnull().values\n",
    "values[values == True].size"
   ]
  },
  {
   "cell_type": "code",
   "execution_count": 25,
   "metadata": {},
   "outputs": [
    {
     "data": {
      "text/html": [
       "<div>\n",
       "<style scoped>\n",
       "    .dataframe tbody tr th:only-of-type {\n",
       "        vertical-align: middle;\n",
       "    }\n",
       "\n",
       "    .dataframe tbody tr th {\n",
       "        vertical-align: top;\n",
       "    }\n",
       "\n",
       "    .dataframe thead th {\n",
       "        text-align: right;\n",
       "    }\n",
       "</style>\n",
       "<table border=\"1\" class=\"dataframe\">\n",
       "  <thead>\n",
       "    <tr style=\"text-align: right;\">\n",
       "      <th></th>\n",
       "      <th>Ranking</th>\n",
       "      <th>Rating</th>\n",
       "      <th>Number of Reviews</th>\n",
       "    </tr>\n",
       "  </thead>\n",
       "  <tbody>\n",
       "    <tr>\n",
       "      <td>0</td>\n",
       "      <td>5570.0</td>\n",
       "      <td>3.5</td>\n",
       "      <td>194.0</td>\n",
       "    </tr>\n",
       "    <tr>\n",
       "      <td>1</td>\n",
       "      <td>1537.0</td>\n",
       "      <td>4.0</td>\n",
       "      <td>10.0</td>\n",
       "    </tr>\n",
       "    <tr>\n",
       "      <td>2</td>\n",
       "      <td>353.0</td>\n",
       "      <td>4.5</td>\n",
       "      <td>688.0</td>\n",
       "    </tr>\n",
       "    <tr>\n",
       "      <td>3</td>\n",
       "      <td>3458.0</td>\n",
       "      <td>5.0</td>\n",
       "      <td>3.0</td>\n",
       "    </tr>\n",
       "    <tr>\n",
       "      <td>4</td>\n",
       "      <td>621.0</td>\n",
       "      <td>4.0</td>\n",
       "      <td>84.0</td>\n",
       "    </tr>\n",
       "  </tbody>\n",
       "</table>\n",
       "</div>"
      ],
      "text/plain": [
       "   Ranking  Rating  Number of Reviews\n",
       "0   5570.0     3.5              194.0\n",
       "1   1537.0     4.0               10.0\n",
       "2    353.0     4.5              688.0\n",
       "3   3458.0     5.0                3.0\n",
       "4    621.0     4.0               84.0"
      ]
     },
     "execution_count": 25,
     "metadata": {},
     "output_type": "execute_result"
    }
   ],
   "source": [
    "# Итоговый датафрейм\n",
    "task_df.head()"
   ]
  },
  {
   "cell_type": "markdown",
   "metadata": {},
   "source": [
    "Применим базовую модель из ноутбука you_first_model"
   ]
  },
  {
   "cell_type": "code",
   "execution_count": 37,
   "metadata": {
    "collapsed": true
   },
   "outputs": [],
   "source": [
    "X = task_df.iloc[:, [0, 2]]\n",
    "y = task_df.iloc[:, 1]\n",
    "\n",
    "X_train, X_test, y_train, y_test = train_test_split(X, y, test_size=0.25)"
   ]
  },
  {
   "cell_type": "code",
   "execution_count": 38,
   "metadata": {},
   "outputs": [
    {
     "name": "stdout",
     "output_type": "stream",
     "text": [
      "MAE: 0.4316716077380952\n"
     ]
    }
   ],
   "source": [
    "regr = RandomForestRegressor(n_estimators=100)\n",
    "regr.fit(X_train, y_train)\n",
    "y_pred = regr.predict(X_test)\n",
    "\n",
    "print('MAE:', metrics.mean_absolute_error(y_test, y_pred))"
   ]
  },
  {
   "cell_type": "markdown",
   "metadata": {},
   "source": [
    "Метрика MAE приняла значение 0.43. Учитывая, что рейтинг изменяется в интервале от 1 до 5 с шагом 0.5 (Rating values = [ 3.5  4.   4.5  5.   3.   2.5  2.   1.   1.5]), отклонение получилось довольно существенным. Очевидно, что нужно вводить больше признаков. Так как признак количества отзывов не заполнен для 2543-х объектов, можно попробовать предзаполнить его там, где есть список отзывов, взяв длину этого списка"
   ]
  },
  {
   "cell_type": "markdown",
   "metadata": {},
   "source": [
    "### Функции для обработки данных "
   ]
  },
  {
   "cell_type": "code",
   "execution_count": 3,
   "metadata": {
    "collapsed": true
   },
   "outputs": [],
   "source": [
    "# Преобразование строкового представления списка в list (для признака \"стили кухни\")\n",
    "def cuisines_to_list(string):\n",
    "    return string.strip('[]').split(', ')"
   ]
  },
  {
   "cell_type": "code",
   "execution_count": 115,
   "metadata": {
    "collapsed": true
   },
   "outputs": [],
   "source": [
    "# Преобразование строкового представления списков в list (для признака Reviews)\n",
    "def reviews_to_list(string, dates=False):\n",
    "    pattern = re.compile('\\'[^\\']+\\'')\n",
    "    reviews = [word[1:-1] for word in pattern.findall(string)]\n",
    "    \n",
    "    if reviews == []:\n",
    "        return [np.nan] * 2\n",
    "    \n",
    "    if dates:\n",
    "        return reviews[-2:] if len(reviews) == 4 else [reviews[-1], np.nan]\n",
    "    else:\n",
    "        return reviews[:2] if len(reviews) == 4 else [reviews[0], np.nan]"
   ]
  },
  {
   "cell_type": "markdown",
   "metadata": {},
   "source": [
    "## Наполнение выборки данными "
   ]
  },
  {
   "cell_type": "code",
   "execution_count": 12,
   "metadata": {},
   "outputs": [
    {
     "data": {
      "text/plain": [
       "31"
      ]
     },
     "execution_count": 12,
     "metadata": {},
     "output_type": "execute_result"
    }
   ],
   "source": [
    "# Сколько городов представлено в наборе данных?\n",
    "data['City'].nunique()"
   ]
  },
  {
   "cell_type": "code",
   "execution_count": 8,
   "metadata": {},
   "outputs": [
    {
     "data": {
      "text/plain": [
       "array(['Paris', 'Stockholm', 'London', 'Berlin', 'Munich', 'Oporto',\n",
       "       'Milan', 'Bratislava', 'Vienna', 'Rome', 'Barcelona', 'Madrid',\n",
       "       'Dublin', 'Brussels', 'Zurich', 'Warsaw', 'Budapest', 'Copenhagen',\n",
       "       'Amsterdam', 'Lyon', 'Hamburg', 'Lisbon', 'Prague', 'Oslo',\n",
       "       'Helsinki', 'Edinburgh', 'Geneva', 'Ljubljana', 'Athens',\n",
       "       'Luxembourg', 'Krakow'], dtype=object)"
      ]
     },
     "execution_count": 8,
     "metadata": {},
     "output_type": "execute_result"
    }
   ],
   "source": [
    "data['City'].unique()"
   ]
  },
  {
   "cell_type": "code",
   "execution_count": 11,
   "metadata": {},
   "outputs": [
    {
     "data": {
      "text/plain": [
       "30424"
      ]
     },
     "execution_count": 11,
     "metadata": {},
     "output_type": "execute_result"
    }
   ],
   "source": [
    "# Сколько ресторанов расположены в столичных городах?\n",
    "data.query('City not in [\"Munich\", \"Oporto\", \"Milan\", \"Barcelona\", \"Zurich\", \"Lyon\", \"Hamburg\", \"Geneva\", \"Krakow\"]').shape[0]"
   ]
  },
  {
   "cell_type": "code",
   "execution_count": 5,
   "metadata": {},
   "outputs": [
    {
     "data": {
      "text/plain": [
       "125"
      ]
     },
     "execution_count": 5,
     "metadata": {},
     "output_type": "execute_result"
    }
   ],
   "source": [
    "# Сколько типов кухонь представлено в наборе данных?\n",
    "all_cuisines = set()\n",
    "\n",
    "for cuisine in data['Cuisine Style'].dropna():\n",
    "    all_cuisines.update(cuisine.strip('[]').split(', '))\n",
    "    \n",
    "len(all_cuisines)"
   ]
  },
  {
   "cell_type": "code",
   "execution_count": 33,
   "metadata": {},
   "outputs": [
    {
     "name": "stdout",
     "output_type": "stream",
     "text": [
      "Counter({'Vegetarian Friendly': 11189, 'European': 10060, 'Mediterranean': 6277, 'Italian': 5964, 'Vegan Options': 4486, 'Gluten Free Options': 4113, 'Bar': 3297, 'French': 3190, 'Asian': 3011, 'Pizza': 2849, 'Spanish': 2798, 'Pub': 2449, 'Cafe': 2325, 'Fast Food': 1705, 'British': 1595, 'International': 1584, 'Seafood': 1505, 'Japanese': 1464, 'Central European': 1393, 'American': 1315, 'Sushi': 1156, 'Chinese': 1145, 'Portuguese': 1107, 'Indian': 1041, 'Middle Eastern': 782, 'Thai': 743, 'Wine Bar': 697, 'German': 662, 'Healthy': 620, 'Greek': 604, 'Halal': 598, 'Czech': 595, 'Fusion': 577, 'Steakhouse': 573, 'Barbecue': 555, 'Contemporary': 523, 'Vietnamese': 513, 'Eastern European': 496, 'Soups': 494, 'Grill': 490, 'Gastropub': 471, 'Mexican': 445, 'Turkish': 444, 'Delicatessen': 392, 'Austrian': 380, 'South American': 372, 'Polish': 365, 'Hungarian': 352, 'Scandinavian': 342, 'Lebanese': 329, 'Latin': 302, 'Diner': 295, 'Dutch': 294, 'Irish': 284, 'Belgian': 270, 'Street Food': 263, 'Brew Pub': 225, 'Swiss': 178, 'Danish': 177, 'Swedish': 171, 'Argentinean': 169, 'Korean': 167, 'Scottish': 163, 'African': 154, 'Moroccan': 141, 'Central American': 135, 'Brazilian': 127, 'Pakistani': 123, 'Peruvian': 94, 'Caribbean': 93, 'Nepali': 83, 'Balti': 83, 'Bangladeshi': 76, 'Norwegian': 75, 'Israeli': 74, 'Slovenian': 68, 'Indonesian': 59, 'Russian': 58, 'Persian': 53, 'Arabic': 51, 'Kosher': 48, 'Ethiopian': 42, 'Venezuelan': 40, 'Malaysian': 31, 'Croatian': 27, 'Jamaican': 25, 'Sri Lankan': 25, 'Tibetan': 24, 'Australian': 24, 'Cuban': 23, 'Taiwanese': 22, 'Afghani': 22, 'Hawaiian': 21, 'Tunisian': 21, 'Egyptian': 20, 'Colombian': 20, 'Cambodian': 20, 'Cajun & Creole': 20, 'Singaporean': 19, 'Ukrainian': 18, 'Southwestern': 17, 'Georgian': 17, 'Mongolian': 14, 'Armenian': 14, 'Central Asian': 12, 'Filipino': 12, 'Minority Chinese': 11, 'Romanian': 10, 'Chilean': 8, 'Albanian': 8, 'New Zealand': 6, 'Uzbek': 5, 'Canadian': 5, 'Ecuadorean': 4, 'Caucasian': 4, 'Native American': 4, 'Polynesian': 2, 'Azerbaijani': 2, 'Fujian': 2, 'Welsh': 2, 'Salvadoran': 1, 'Yunnan': 1, 'Xinjiang': 1, 'Burmese': 1, 'Latvian': 1})\n"
     ]
    }
   ],
   "source": [
    "# Какая кухня представлена в наибольшем количестве ресторанов? Введите название кухни без кавычек или апострофов.\n",
    "c = Counter()\n",
    "\n",
    "for cuisines in data['Cuisine Style'].dropna():\n",
    "    for cuisine in cuisines.strip('[]').split(', '):\n",
    "        c[cuisine.strip(\"\\'\")] += 1\n",
    "        \n",
    "print(c)"
   ]
  },
  {
   "cell_type": "code",
   "execution_count": 43,
   "metadata": {},
   "outputs": [
    {
     "name": "stdout",
     "output_type": "stream",
     "text": [
      "2.6224\n"
     ]
    }
   ],
   "source": [
    "# Какое среднее количество кухонь предлагается в одном ресторане?\n",
    "# Если в данных отсутствует информация о типах кухонь, то считайте, что в этом ресторане предлагается только один тип кухни. \n",
    "# Ответ округлите до одного знака после запятой.\n",
    "\n",
    "cuisines = data.loc[:, 'Cuisine Style'].fillna('[Vegetarian Friendly]')\n",
    "cuisines = cuisines.apply(lambda x: cuisines_to_list(x))\n",
    "\n",
    "cuisines_in_all_restaurants = []\n",
    "\n",
    "for cuisine in cuisines:\n",
    "    cuisines_in_all_restaurants.append(len(cuisine))\n",
    "\n",
    "print(np.mean(cuisines_in_all_restaurants))"
   ]
  },
  {
   "cell_type": "code",
   "execution_count": 60,
   "metadata": {},
   "outputs": [
    {
     "data": {
      "text/plain": [
       "'2017-09-22'"
      ]
     },
     "execution_count": 60,
     "metadata": {},
     "output_type": "execute_result"
    }
   ],
   "source": [
    "#datetime('09/22/2017')\n",
    "pd.to_datetime('09/22/2017').strftime('%Y-%m-%d')"
   ]
  },
  {
   "cell_type": "code",
   "execution_count": 116,
   "metadata": {},
   "outputs": [
    {
     "data": {
      "text/html": [
       "<div>\n",
       "<style>\n",
       "    .dataframe thead tr:only-child th {\n",
       "        text-align: right;\n",
       "    }\n",
       "\n",
       "    .dataframe thead th {\n",
       "        text-align: left;\n",
       "    }\n",
       "\n",
       "    .dataframe tbody tr th {\n",
       "        vertical-align: top;\n",
       "    }\n",
       "</style>\n",
       "<table border=\"1\" class=\"dataframe\">\n",
       "  <thead>\n",
       "    <tr style=\"text-align: right;\">\n",
       "      <th></th>\n",
       "      <th>FRDate</th>\n",
       "      <th>SRDate</th>\n",
       "    </tr>\n",
       "  </thead>\n",
       "  <tbody>\n",
       "    <tr>\n",
       "      <th>0</th>\n",
       "      <td>12/31/2017</td>\n",
       "      <td>11/20/2017</td>\n",
       "    </tr>\n",
       "    <tr>\n",
       "      <th>1</th>\n",
       "      <td>07/06/2017</td>\n",
       "      <td>06/19/2016</td>\n",
       "    </tr>\n",
       "    <tr>\n",
       "      <th>2</th>\n",
       "      <td>01/08/2018</td>\n",
       "      <td>01/06/2018</td>\n",
       "    </tr>\n",
       "    <tr>\n",
       "      <th>3</th>\n",
       "      <td>NaN</td>\n",
       "      <td>NaN</td>\n",
       "    </tr>\n",
       "    <tr>\n",
       "      <th>4</th>\n",
       "      <td>11/18/2017</td>\n",
       "      <td>02/19/2017</td>\n",
       "    </tr>\n",
       "    <tr>\n",
       "      <th>5</th>\n",
       "      <td>09/16/2017</td>\n",
       "      <td>05/31/2017</td>\n",
       "    </tr>\n",
       "    <tr>\n",
       "      <th>6</th>\n",
       "      <td>08/04/2017</td>\n",
       "      <td>11/05/2017</td>\n",
       "    </tr>\n",
       "    <tr>\n",
       "      <th>7</th>\n",
       "      <td>02/16/2014</td>\n",
       "      <td>06/13/2012</td>\n",
       "    </tr>\n",
       "    <tr>\n",
       "      <th>8</th>\n",
       "      <td>NaN</td>\n",
       "      <td>NaN</td>\n",
       "    </tr>\n",
       "    <tr>\n",
       "      <th>9</th>\n",
       "      <td>11/07/2017</td>\n",
       "      <td>03/27/2017</td>\n",
       "    </tr>\n",
       "    <tr>\n",
       "      <th>10</th>\n",
       "      <td>NaN</td>\n",
       "      <td>NaN</td>\n",
       "    </tr>\n",
       "    <tr>\n",
       "      <th>11</th>\n",
       "      <td>12/15/2017</td>\n",
       "      <td>11/22/2017</td>\n",
       "    </tr>\n",
       "    <tr>\n",
       "      <th>12</th>\n",
       "      <td>01/07/2018</td>\n",
       "      <td>12/27/2017</td>\n",
       "    </tr>\n",
       "    <tr>\n",
       "      <th>13</th>\n",
       "      <td>07/25/2017</td>\n",
       "      <td>05/30/2017</td>\n",
       "    </tr>\n",
       "    <tr>\n",
       "      <th>14</th>\n",
       "      <td>NaN</td>\n",
       "      <td>NaN</td>\n",
       "    </tr>\n",
       "    <tr>\n",
       "      <th>15</th>\n",
       "      <td>12/01/2017</td>\n",
       "      <td>09/14/2017</td>\n",
       "    </tr>\n",
       "    <tr>\n",
       "      <th>16</th>\n",
       "      <td>04/12/2017</td>\n",
       "      <td>NaN</td>\n",
       "    </tr>\n",
       "    <tr>\n",
       "      <th>17</th>\n",
       "      <td>02/28/2017</td>\n",
       "      <td>10/31/2016</td>\n",
       "    </tr>\n",
       "    <tr>\n",
       "      <th>18</th>\n",
       "      <td>08/16/2017</td>\n",
       "      <td>10/21/2016</td>\n",
       "    </tr>\n",
       "    <tr>\n",
       "      <th>19</th>\n",
       "      <td>04/12/2016</td>\n",
       "      <td>08/13/2015</td>\n",
       "    </tr>\n",
       "    <tr>\n",
       "      <th>20</th>\n",
       "      <td>12/12/2017</td>\n",
       "      <td>12/04/2017</td>\n",
       "    </tr>\n",
       "    <tr>\n",
       "      <th>21</th>\n",
       "      <td>NaN</td>\n",
       "      <td>NaN</td>\n",
       "    </tr>\n",
       "    <tr>\n",
       "      <th>22</th>\n",
       "      <td>08/05/2017</td>\n",
       "      <td>04/29/2017</td>\n",
       "    </tr>\n",
       "    <tr>\n",
       "      <th>23</th>\n",
       "      <td>12/01/2017</td>\n",
       "      <td>10/05/2017</td>\n",
       "    </tr>\n",
       "    <tr>\n",
       "      <th>24</th>\n",
       "      <td>08/06/2017</td>\n",
       "      <td>05/09/2017</td>\n",
       "    </tr>\n",
       "    <tr>\n",
       "      <th>25</th>\n",
       "      <td>NaN</td>\n",
       "      <td>NaN</td>\n",
       "    </tr>\n",
       "    <tr>\n",
       "      <th>26</th>\n",
       "      <td>07/05/2016</td>\n",
       "      <td>NaN</td>\n",
       "    </tr>\n",
       "    <tr>\n",
       "      <th>27</th>\n",
       "      <td>01/26/2017</td>\n",
       "      <td>NaN</td>\n",
       "    </tr>\n",
       "    <tr>\n",
       "      <th>28</th>\n",
       "      <td>08/20/2011</td>\n",
       "      <td>NaN</td>\n",
       "    </tr>\n",
       "    <tr>\n",
       "      <th>29</th>\n",
       "      <td>NaN</td>\n",
       "      <td>NaN</td>\n",
       "    </tr>\n",
       "    <tr>\n",
       "      <th>...</th>\n",
       "      <td>...</td>\n",
       "      <td>...</td>\n",
       "    </tr>\n",
       "    <tr>\n",
       "      <th>39970</th>\n",
       "      <td>05/18/2017</td>\n",
       "      <td>02/09/2017</td>\n",
       "    </tr>\n",
       "    <tr>\n",
       "      <th>39971</th>\n",
       "      <td>07/10/2017</td>\n",
       "      <td>07/05/2017</td>\n",
       "    </tr>\n",
       "    <tr>\n",
       "      <th>39972</th>\n",
       "      <td>10/27/2017</td>\n",
       "      <td>NaN</td>\n",
       "    </tr>\n",
       "    <tr>\n",
       "      <th>39973</th>\n",
       "      <td>01/05/2018</td>\n",
       "      <td>01/05/2018</td>\n",
       "    </tr>\n",
       "    <tr>\n",
       "      <th>39974</th>\n",
       "      <td>08/29/2016</td>\n",
       "      <td>NaN</td>\n",
       "    </tr>\n",
       "    <tr>\n",
       "      <th>39975</th>\n",
       "      <td>NaN</td>\n",
       "      <td>NaN</td>\n",
       "    </tr>\n",
       "    <tr>\n",
       "      <th>39976</th>\n",
       "      <td>NaN</td>\n",
       "      <td>NaN</td>\n",
       "    </tr>\n",
       "    <tr>\n",
       "      <th>39977</th>\n",
       "      <td>04/18/2017</td>\n",
       "      <td>11/01/2016</td>\n",
       "    </tr>\n",
       "    <tr>\n",
       "      <th>39978</th>\n",
       "      <td>08/03/2016</td>\n",
       "      <td>07/07/2016</td>\n",
       "    </tr>\n",
       "    <tr>\n",
       "      <th>39979</th>\n",
       "      <td>02/03/2017</td>\n",
       "      <td>08/16/2017</td>\n",
       "    </tr>\n",
       "    <tr>\n",
       "      <th>39980</th>\n",
       "      <td>01/03/2018</td>\n",
       "      <td>12/31/2017</td>\n",
       "    </tr>\n",
       "    <tr>\n",
       "      <th>39981</th>\n",
       "      <td>NaN</td>\n",
       "      <td>NaN</td>\n",
       "    </tr>\n",
       "    <tr>\n",
       "      <th>39982</th>\n",
       "      <td>01/03/2018</td>\n",
       "      <td>12/31/2017</td>\n",
       "    </tr>\n",
       "    <tr>\n",
       "      <th>39983</th>\n",
       "      <td>05/24/2015</td>\n",
       "      <td>NaN</td>\n",
       "    </tr>\n",
       "    <tr>\n",
       "      <th>39984</th>\n",
       "      <td>11/03/2016</td>\n",
       "      <td>NaN</td>\n",
       "    </tr>\n",
       "    <tr>\n",
       "      <th>39985</th>\n",
       "      <td>02/04/2018</td>\n",
       "      <td>11/27/2017</td>\n",
       "    </tr>\n",
       "    <tr>\n",
       "      <th>39986</th>\n",
       "      <td>NaN</td>\n",
       "      <td>NaN</td>\n",
       "    </tr>\n",
       "    <tr>\n",
       "      <th>39987</th>\n",
       "      <td>08/11/2016</td>\n",
       "      <td>05/14/2016</td>\n",
       "    </tr>\n",
       "    <tr>\n",
       "      <th>39988</th>\n",
       "      <td>NaN</td>\n",
       "      <td>NaN</td>\n",
       "    </tr>\n",
       "    <tr>\n",
       "      <th>39989</th>\n",
       "      <td>08/24/2015</td>\n",
       "      <td>NaN</td>\n",
       "    </tr>\n",
       "    <tr>\n",
       "      <th>39990</th>\n",
       "      <td>07/11/2014</td>\n",
       "      <td>05/17/2014</td>\n",
       "    </tr>\n",
       "    <tr>\n",
       "      <th>39991</th>\n",
       "      <td>NaN</td>\n",
       "      <td>NaN</td>\n",
       "    </tr>\n",
       "    <tr>\n",
       "      <th>39992</th>\n",
       "      <td>01/07/2018</td>\n",
       "      <td>01/04/2018</td>\n",
       "    </tr>\n",
       "    <tr>\n",
       "      <th>39993</th>\n",
       "      <td>01/23/2017</td>\n",
       "      <td>12/31/2017</td>\n",
       "    </tr>\n",
       "    <tr>\n",
       "      <th>39994</th>\n",
       "      <td>NaN</td>\n",
       "      <td>NaN</td>\n",
       "    </tr>\n",
       "    <tr>\n",
       "      <th>39995</th>\n",
       "      <td>12/16/2017</td>\n",
       "      <td>11/12/2017</td>\n",
       "    </tr>\n",
       "    <tr>\n",
       "      <th>39996</th>\n",
       "      <td>12/21/2017</td>\n",
       "      <td>12/12/2017</td>\n",
       "    </tr>\n",
       "    <tr>\n",
       "      <th>39997</th>\n",
       "      <td>11/03/2016</td>\n",
       "      <td>04/12/2008</td>\n",
       "    </tr>\n",
       "    <tr>\n",
       "      <th>39998</th>\n",
       "      <td>07/11/2017</td>\n",
       "      <td>06/18/2017</td>\n",
       "    </tr>\n",
       "    <tr>\n",
       "      <th>39999</th>\n",
       "      <td>01/31/2016</td>\n",
       "      <td>07/04/2012</td>\n",
       "    </tr>\n",
       "  </tbody>\n",
       "</table>\n",
       "<p>40000 rows × 2 columns</p>\n",
       "</div>"
      ],
      "text/plain": [
       "           FRDate      SRDate\n",
       "0      12/31/2017  11/20/2017\n",
       "1      07/06/2017  06/19/2016\n",
       "2      01/08/2018  01/06/2018\n",
       "3             NaN         NaN\n",
       "4      11/18/2017  02/19/2017\n",
       "5      09/16/2017  05/31/2017\n",
       "6      08/04/2017  11/05/2017\n",
       "7      02/16/2014  06/13/2012\n",
       "8             NaN         NaN\n",
       "9      11/07/2017  03/27/2017\n",
       "10            NaN         NaN\n",
       "11     12/15/2017  11/22/2017\n",
       "12     01/07/2018  12/27/2017\n",
       "13     07/25/2017  05/30/2017\n",
       "14            NaN         NaN\n",
       "15     12/01/2017  09/14/2017\n",
       "16     04/12/2017         NaN\n",
       "17     02/28/2017  10/31/2016\n",
       "18     08/16/2017  10/21/2016\n",
       "19     04/12/2016  08/13/2015\n",
       "20     12/12/2017  12/04/2017\n",
       "21            NaN         NaN\n",
       "22     08/05/2017  04/29/2017\n",
       "23     12/01/2017  10/05/2017\n",
       "24     08/06/2017  05/09/2017\n",
       "25            NaN         NaN\n",
       "26     07/05/2016         NaN\n",
       "27     01/26/2017         NaN\n",
       "28     08/20/2011         NaN\n",
       "29            NaN         NaN\n",
       "...           ...         ...\n",
       "39970  05/18/2017  02/09/2017\n",
       "39971  07/10/2017  07/05/2017\n",
       "39972  10/27/2017         NaN\n",
       "39973  01/05/2018  01/05/2018\n",
       "39974  08/29/2016         NaN\n",
       "39975         NaN         NaN\n",
       "39976         NaN         NaN\n",
       "39977  04/18/2017  11/01/2016\n",
       "39978  08/03/2016  07/07/2016\n",
       "39979  02/03/2017  08/16/2017\n",
       "39980  01/03/2018  12/31/2017\n",
       "39981         NaN         NaN\n",
       "39982  01/03/2018  12/31/2017\n",
       "39983  05/24/2015         NaN\n",
       "39984  11/03/2016         NaN\n",
       "39985  02/04/2018  11/27/2017\n",
       "39986         NaN         NaN\n",
       "39987  08/11/2016  05/14/2016\n",
       "39988         NaN         NaN\n",
       "39989  08/24/2015         NaN\n",
       "39990  07/11/2014  05/17/2014\n",
       "39991         NaN         NaN\n",
       "39992  01/07/2018  01/04/2018\n",
       "39993  01/23/2017  12/31/2017\n",
       "39994         NaN         NaN\n",
       "39995  12/16/2017  11/12/2017\n",
       "39996  12/21/2017  12/12/2017\n",
       "39997  11/03/2016  04/12/2008\n",
       "39998  07/11/2017  06/18/2017\n",
       "39999  01/31/2016  07/04/2012\n",
       "\n",
       "[40000 rows x 2 columns]"
      ]
     },
     "execution_count": 116,
     "metadata": {},
     "output_type": "execute_result"
    }
   ],
   "source": [
    "reviews = data.loc[:, 'Reviews']\n",
    "reviews_dates = reviews.apply(lambda x: reviews_to_list(x, True))\n",
    "#print(reviews_dates)\n",
    "dates_df = pd.concat([pd.Series([date[0] for date in reviews_dates]),\n",
    "                      pd.Series([date[1] for date in reviews_dates])], axis=1)\n",
    "\n",
    "dates_df.columns = ['FRDate', 'SRDate']\n",
    "dates_df\n",
    "\n",
    "#dates_df['FRDate'] = pd.to_datetime(dates_df['FRDate'].dropna())\n",
    "#dates_df['SRDate'] = pd.to_datetime(dates_df['SRDate'].dropna())\n",
    "\n",
    "#dates_df.head()"
   ]
  },
  {
   "cell_type": "code",
   "execution_count": 61,
   "metadata": {},
   "outputs": [],
   "source": [
    "data.Reviews.to_csv('reviews.csv')"
   ]
  },
  {
   "cell_type": "code",
   "execution_count": 117,
   "metadata": {},
   "outputs": [
    {
     "name": "stdout",
     "output_type": "stream",
     "text": [
      "ve tried\"], [ 12/31/2017\n"
     ]
    }
   ],
   "source": [
    "print(max(dates_df['FRDate'].dropna()), max(dates_df['SRDate'].dropna()))"
   ]
  },
  {
   "cell_type": "code",
   "execution_count": 53,
   "metadata": {},
   "outputs": [
    {
     "data": {
      "text/plain": [
       "array(['12/31/2017', '07/06/2017', '01/08/2018', ..., 'and easy to u...',\n",
       "       '08/10/2012', '05/31/2013'], dtype=object)"
      ]
     },
     "execution_count": 53,
     "metadata": {},
     "output_type": "execute_result"
    }
   ],
   "source": [
    "dates_df['FRDate'].unique()"
   ]
  },
  {
   "cell_type": "code",
   "execution_count": 63,
   "metadata": {},
   "outputs": [
    {
     "data": {
      "text/plain": [
       "['Fresh', 'hot']"
      ]
     },
     "execution_count": 63,
     "metadata": {},
     "output_type": "execute_result"
    }
   ],
   "source": [
    "reviews_to_list(\"[['Fresh, hot, wonderful dumplings!'], ['03/19/2017']]\", False)"
   ]
  },
  {
   "cell_type": "code",
   "execution_count": 84,
   "metadata": {},
   "outputs": [
    {
     "data": {
      "text/plain": [
       "\"['Fresh, hot, wonderful dumplings!'], ['03/19/2017']\""
      ]
     },
     "execution_count": 84,
     "metadata": {},
     "output_type": "execute_result"
    }
   ],
   "source": [
    "\"[['Fresh, hot, wonderful dumplings!'], ['03/19/2017']]\"[1:-1]#.replace('[', '').replace(']', '').split('\\', \\'')"
   ]
  },
  {
   "cell_type": "code",
   "execution_count": 132,
   "metadata": {},
   "outputs": [],
   "source": [
    "#(\\'\\d\\d\\/\\d\\d\\/\\d\\d\\d\\d\\')\n",
    "#(\\'[^\\']+\\')|(\\\"\\\".*\\\"\\\")\n",
    "#(\\'[^\\']+\\')|(\"\"(?:[^\"\\\\]++|\\\\.)*+\"\")|(\\\"\\\".*\\\"\\\")\n",
    "pattern = re.compile('[0-9|/]+')"
   ]
  },
  {
   "cell_type": "code",
   "execution_count": 134,
   "metadata": {},
   "outputs": [
    {
     "data": {
      "text/plain": [
       "['01/02/2015']"
      ]
     },
     "execution_count": 134,
     "metadata": {},
     "output_type": "execute_result"
    }
   ],
   "source": [
    "pattern.findall(\"[[\"\"Don't miss it !\"\"], ['01/02/2015']]\")"
   ]
  },
  {
   "cell_type": "code",
   "execution_count": null,
   "metadata": {
    "collapsed": true
   },
   "outputs": [],
   "source": []
  }
 ],
 "metadata": {
  "kernelspec": {
   "display_name": "Python 3",
   "language": "python",
   "name": "python3"
  },
  "language_info": {
   "codemirror_mode": {
    "name": "ipython",
    "version": 3
   },
   "file_extension": ".py",
   "mimetype": "text/x-python",
   "name": "python",
   "nbconvert_exporter": "python",
   "pygments_lexer": "ipython3",
   "version": "3.6.1"
  }
 },
 "nbformat": 4,
 "nbformat_minor": 2
}
